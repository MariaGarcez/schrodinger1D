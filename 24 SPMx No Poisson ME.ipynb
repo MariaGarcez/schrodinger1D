{
 "cells": [
  {
   "cell_type": "code",
   "execution_count": 1,
   "id": "da50689f",
   "metadata": {},
   "outputs": [],
   "source": [
    "from numpy import *\n",
    "from matplotlib.pyplot import *\n",
    "from scipy.sparse import diags\n",
    "from scipy.sparse.linalg import eigs"
   ]
  },
  {
   "cell_type": "code",
   "execution_count": 2,
   "id": "f4b69869",
   "metadata": {
    "scrolled": true
   },
   "outputs": [],
   "source": [
    "h, m, c = 6.582119569e-16, 510998.950, 299792458\n",
    "h *= 1e10\n",
    "k  = ((h*c)**2)/(2*m)"
   ]
  },
  {
   "cell_type": "code",
   "execution_count": 9,
   "id": "f4a4a601-695a-4eee-9522-8462af8e37c6",
   "metadata": {},
   "outputs": [
    {
     "name": "stdout",
     "output_type": "stream",
     "text": [
      "3.809982115536926\n"
     ]
    }
   ],
   "source": [
    "print(k)"
   ]
  },
  {
   "cell_type": "code",
   "execution_count": 3,
   "id": "0acaee7b",
   "metadata": {},
   "outputs": [],
   "source": [
    "N, xf, gw = 1001, 200, 100\n",
    "x, dx = linspace(0,xf,N), xf/(N-1)"
   ]
  },
  {
   "cell_type": "code",
   "execution_count": 4,
   "id": "05edf1cc",
   "metadata": {},
   "outputs": [],
   "source": [
    "V = zeros(N)\n",
    "V[x >= xf/2-gw/2] = -0.67\n",
    "V[x >  xf/2+gw/2] = 0"
   ]
  },
  {
   "cell_type": "code",
   "execution_count": 5,
   "id": "7ce9008d",
   "metadata": {},
   "outputs": [],
   "source": [
    "mb, mp = 0.063+0.083*0.30, 0.067\n",
    "mx = ones(N)*mb\n",
    "mx[x >= xf/2-gw/2] = mp\n",
    "mx[x >  xf/2+gw/2] = mb\n",
    "mx = insert(mx,0,mb)\n",
    "mx = append(mx,mb)"
   ]
  },
  {
   "cell_type": "code",
   "execution_count": 6,
   "id": "95c0146b",
   "metadata": {
    "scrolled": true
   },
   "outputs": [],
   "source": [
    "A = V + k/(mx[1:-1]*dx**2) + k/(mx[0:-2]*dx**2)\n",
    "B = -ones(N-1)*k/(mx[1:-2]*dx**2)\n",
    "hamil = diags([B, A, B], [1, 0, -1], shape=(N, N)).toarray()\n",
    "energy, state = linalg.eigh(hamil)"
   ]
  },
  {
   "cell_type": "code",
   "execution_count": 7,
   "id": "7f658f32",
   "metadata": {
    "scrolled": true
   },
   "outputs": [
    {
     "data": {
      "text/plain": [
       "array([-631.90970914, -518.38111061, -333.05097971,  -91.5730714 ,\n",
       "        108.82425925,  177.76007661,  303.50996822,  531.57046648])"
      ]
     },
     "execution_count": 7,
     "metadata": {},
     "output_type": "execute_result"
    }
   ],
   "source": [
    "energy[range(0,8)]*1000"
   ]
  },
  {
   "cell_type": "code",
   "execution_count": 8,
   "id": "81336308",
   "metadata": {
    "scrolled": true
   },
   "outputs": [
    {
     "data": {
      "text/plain": [
       "[<matplotlib.lines.Line2D at 0x24a57bd7970>]"
      ]
     },
     "execution_count": 8,
     "metadata": {},
     "output_type": "execute_result"
    },
    {
     "data": {
      "image/png": "[encoded data removed]",
      "text/plain": [
       "<Figure size 936x288 with 2 Axes>"
      ]
     },
     "metadata": {
      "needs_background": "light"
     },
     "output_type": "display_data"
    }
   ],
   "source": [
    "f, (ax1, ax2) = subplots(1, 2,figsize=(13,4))\n",
    "ax1.set_title(\"Potential\",size=13)\n",
    "ax1.plot(x,V,'k')\n",
    "\n",
    "ax2.set_title(\"Wave Function\",size=13)\n",
    "ax2.plot(x,state[:,0],'k')"
   ]
  }
 ],
 "metadata": {
  "kernelspec": {
   "display_name": "Python 3 (ipykernel)",
   "language": "python",
   "name": "python3"
  },
  "language_info": {
   "codemirror_mode": {
    "name": "ipython",
    "version": 3
   },
   "file_extension": ".py",
   "mimetype": "text/x-python",
   "name": "python",
   "nbconvert_exporter": "python",
   "pygments_lexer": "ipython3",
   "version": "3.10.6"
  }
 },
 "nbformat": 4,
 "nbformat_minor": 5
}
